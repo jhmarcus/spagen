{
 "cells": [
  {
   "cell_type": "markdown",
   "metadata": {},
   "source": [
    "# Factor analysis"
   ]
  },
  {
   "cell_type": "markdown",
   "metadata": {},
   "source": [
    "TODO: description / clean up description as vignette style tutorial"
   ]
  },
  {
   "cell_type": "markdown",
   "metadata": {},
   "source": [
    "## Configuration"
   ]
  },
  {
   "cell_type": "markdown",
   "metadata": {},
   "source": [
    "Imports and configure the notebook ..."
   ]
  },
  {
   "cell_type": "code",
   "execution_count": null,
   "metadata": {},
   "outputs": [],
   "source": [
    "import numpy as np\n",
    "import pandas as pd\n",
    "from sklearn.decomposition import PCA\n",
    "\n",
    "import sys\n",
    "sys.path.append('../')\n",
    "import spagen\n",
    "from spagen.models import FactorAnalysis"
   ]
  },
  {
   "cell_type": "code",
   "execution_count": null,
   "metadata": {},
   "outputs": [],
   "source": [
    "%%R\n",
    "suppressWarnings(library(ggplot2))\n",
    "suppressWarnings(library(viridis))"
   ]
  },
  {
   "cell_type": "markdown",
   "metadata": {},
   "source": [
    "## Data"
   ]
  },
  {
   "cell_type": "markdown",
   "metadata": {},
   "source": [
    "read dataset"
   ]
  },
  {
   "cell_type": "code",
   "execution_count": null,
   "metadata": {},
   "outputs": [],
   "source": [
    "dataset = spagen.data.Dataset('./data/medit/medit.traw',\n",
    "                              './data/medit/medit.geo', \n",
    "                              impute=True,\n",
    "                              normalize=True, \n",
    "                              p_samp=20000\n",
    "                              )"
   ]
  },
  {
   "cell_type": "markdown",
   "metadata": {},
   "source": [
    "Lets plot up all the samples locations on a map to visualize what kind of population structure we should expect in the dataset ..."
   ]
  },
  {
   "cell_type": "code",
   "execution_count": null,
   "metadata": {},
   "outputs": [],
   "source": [
    "x = dataset.positions.x\n",
    "labels = dataset.positions.labels\n",
    "geo_df = pd.DataFrame({'lat': x[:,0], 'lon': x[:,1], 'lab': labels})"
   ]
  },
  {
   "cell_type": "code",
   "execution_count": null,
   "metadata": {},
   "outputs": [],
   "source": [
    "%%R -i geo_df\n",
    "x <- c(-10.00,  20.00)\n",
    "y <- c(30.00, 50.0)\n",
    "p <- ggplot(geo_df %>% distinct(lon, lat, lab), aes(lon, lat, label=lab)) + \n",
    "     borders(\"world\", xlim = x, \n",
    "             ylim = y,\n",
    "             fill=\"#bdbdbd\", colour=\"#bdbdbd\") + \n",
    "     geom_text(size=5) +\n",
    "     scale_size_area() + \n",
    "     coord_map(xlim = x, ylim = y) +\n",
    "     xlab('Longitude') + ylab('Latitude') \n",
    "p"
   ]
  },
  {
   "cell_type": "markdown",
   "metadata": {},
   "source": [
    "## Models"
   ]
  },
  {
   "cell_type": "markdown",
   "metadata": {},
   "source": [
    "### PCA"
   ]
  },
  {
   "cell_type": "markdown",
   "metadata": {},
   "source": [
    "Here we compare our factor analysis method to PCA ..."
   ]
  },
  {
   "cell_type": "code",
   "execution_count": null,
   "metadata": {},
   "outputs": [],
   "source": [
    "pca = PCA(n_components=2)\n",
    "pca.fit(dataset.genotypes.y)\n",
    "pcs = pca.components_.T"
   ]
  },
  {
   "cell_type": "code",
   "execution_count": null,
   "metadata": {},
   "outputs": [],
   "source": [
    "%%R -i pcs,x,labels\n",
    "pc_df <- as.data.frame(pcs)\n",
    "colnames(pc_df) <- paste0('PC', 1:2)\n",
    "pc_df$label <- labels\n",
    "pc_df$lat <- x[,2]\n",
    "p_pca <- ggplot(pc_df, aes(x=PC1, y=PC2, label=label, color=lat)) + geom_text() +\n",
    "         scale_color_viridis()\n",
    "p_pca"
   ]
  },
  {
   "cell_type": "markdown",
   "metadata": {},
   "source": [
    "### No spatial random effect / dense loadings"
   ]
  },
  {
   "cell_type": "markdown",
   "metadata": {},
   "source": [
    "should be similar to pca"
   ]
  },
  {
   "cell_type": "code",
   "execution_count": null,
   "metadata": {},
   "outputs": [],
   "source": [
    "%%time\n",
    "model_ns_dl = FactorAnalysis(dataset, k=2, spatial_effect=False, sparse_loadings=False)\n",
    "model_ns_dl.fit(n_iter=500)"
   ]
  },
  {
   "cell_type": "code",
   "execution_count": null,
   "metadata": {},
   "outputs": [],
   "source": [
    "l_hat_ns_dl = model_ns_dl.l_hat"
   ]
  },
  {
   "cell_type": "code",
   "execution_count": null,
   "metadata": {},
   "outputs": [],
   "source": [
    "%%R -i l_hat_ns_dl\n",
    "load_df <- as.data.frame(l_hat_ns_dl)\n",
    "colnames(load_df) <- paste0('L', 1:2)\n",
    "load_df$label <- labels\n",
    "load_df$lat <- x[,2]\n",
    "p_load <- ggplot(load_df, aes(x=-L1, y=L2, label=label, color=lat)) + geom_text() +\n",
    "          scale_color_viridis()\n",
    "p_load"
   ]
  },
  {
   "cell_type": "markdown",
   "metadata": {},
   "source": [
    "### No spatial random effect / sparse loadings"
   ]
  },
  {
   "cell_type": "markdown",
   "metadata": {},
   "source": [
    "should be similar to pca / sparse factor model"
   ]
  },
  {
   "cell_type": "code",
   "execution_count": null,
   "metadata": {},
   "outputs": [],
   "source": [
    "%%time\n",
    "model_ns_sl = spagen.models.FactorAnalysis(dataset, \n",
    "                                           k=2, \n",
    "                                           spatial_effect=False, \n",
    "                                           sparse_loadings=True)\n",
    "model_ns_sl.fit(n_iter=500)"
   ]
  },
  {
   "cell_type": "code",
   "execution_count": null,
   "metadata": {},
   "outputs": [],
   "source": [
    "l_hat_ns_sl = model_ns_sl.l_hat"
   ]
  },
  {
   "cell_type": "code",
   "execution_count": null,
   "metadata": {},
   "outputs": [],
   "source": [
    "%%R -i l_hat_ns_sl\n",
    "load_df <- as.data.frame(l_hat_ns_sl)\n",
    "colnames(load_df) <- paste0('L', 1:2)\n",
    "load_df$label <- labels\n",
    "load_df$lat <- x[,2]\n",
    "p_load <- ggplot(load_df, aes(x=L1, y=-L2, label=label, color=lat)) + geom_text() +\n",
    "          scale_color_viridis( )\n",
    "p_load"
   ]
  },
  {
   "cell_type": "markdown",
   "metadata": {},
   "source": [
    "### Spatial random effect  / dense loadings"
   ]
  },
  {
   "cell_type": "markdown",
   "metadata": {},
   "source": [
    "should be similar to pca"
   ]
  },
  {
   "cell_type": "code",
   "execution_count": null,
   "metadata": {},
   "outputs": [],
   "source": [
    "%%time\n",
    "model_s_dl = spagen.models.FactorAnalysis(dataset, \n",
    "                                          k=2, \n",
    "                                          spatial_effect=True, \n",
    "                                          sparse_loadings=False)\n",
    "model_s_dl.fit(n_iter=500)"
   ]
  },
  {
   "cell_type": "code",
   "execution_count": null,
   "metadata": {},
   "outputs": [],
   "source": [
    "l_hat_s_dl = model_s_dl.l_hat"
   ]
  },
  {
   "cell_type": "code",
   "execution_count": null,
   "metadata": {},
   "outputs": [],
   "source": [
    "print('sigma_e = {}\\nsigma_s = {}\\nalpha = {}'.format(model_s_dl.sigma_e_hat, \n",
    "                                                      model_s_dl.sigma_s_hat, \n",
    "                                                      model_s_dl.alpha_hat))"
   ]
  },
  {
   "cell_type": "code",
   "execution_count": null,
   "metadata": {},
   "outputs": [],
   "source": [
    "%%R -i l_hat_s_dl\n",
    "load_df <- as.data.frame(l_hat_s_dl)\n",
    "colnames(load_df) <- paste0('L', 1:2)\n",
    "load_df$label <- labels\n",
    "load_df$lat <- x[,2]\n",
    "p_load <- ggplot(load_df, aes(x=-L2, y=L1, label=label, color=lat)) + geom_text() +\n",
    "          scale_color_viridis( )\n",
    "p_load"
   ]
  },
  {
   "cell_type": "markdown",
   "metadata": {},
   "source": [
    "### Spatial random effect  / sparse loadings "
   ]
  },
  {
   "cell_type": "code",
   "execution_count": null,
   "metadata": {},
   "outputs": [],
   "source": [
    "%%time\n",
    "model_s_sl = spagen.models.FactorAnalysis(dataset, \n",
    "                                          k=2,\n",
    "                                          spatial_effect=True, \n",
    "                                          sparse_loadings=True)\n",
    "model_s_sl.fit(n_iter=500)"
   ]
  },
  {
   "cell_type": "code",
   "execution_count": null,
   "metadata": {},
   "outputs": [],
   "source": [
    "l_hat_s_sl = model_s_sl.l_hat"
   ]
  },
  {
   "cell_type": "code",
   "execution_count": null,
   "metadata": {},
   "outputs": [],
   "source": [
    "print('sigma_e = {}\\nsigma_s = {}\\nalpha = {}'.format(model_s_sl.sigma_e_hat, \n",
    "                                                      model_s_sl.sigma_s_hat, \n",
    "                                                      model_s_sl.alpha_hat))"
   ]
  },
  {
   "cell_type": "code",
   "execution_count": null,
   "metadata": {},
   "outputs": [],
   "source": [
    "%%R -i l_hat_s_sl\n",
    "load_df <- as.data.frame(l_hat_s_sl)\n",
    "colnames(load_df) <- paste0('L', 1:2)\n",
    "load_df$label <- labels\n",
    "load_df$lat <- x[,2]\n",
    "p_load <- ggplot(load_df, aes(x=L2, y=-L1, label=label, color=lat)) + geom_text() +\n",
    "          scale_color_viridis()\n",
    "p_load"
   ]
  }
 ],
 "metadata": {
  "kernelspec": {
   "display_name": "Python 3",
   "language": "python",
   "name": "python3"
  },
  "language_info": {
   "codemirror_mode": {
    "name": "ipython",
    "version": 3
   },
   "file_extension": ".py",
   "mimetype": "text/x-python",
   "name": "python",
   "nbconvert_exporter": "python",
   "pygments_lexer": "ipython3",
   "version": "3.6.2"
  }
 },
 "nbformat": 4,
 "nbformat_minor": 2
}
